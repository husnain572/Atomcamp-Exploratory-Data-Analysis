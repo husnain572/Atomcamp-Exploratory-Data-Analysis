{
 "cells": [
  {
   "cell_type": "code",
   "execution_count": 2,
   "metadata": {},
   "outputs": [],
   "source": [
    "import pandas as pd\n",
    "import numpy as np\n",
    "import matplotlib.pyplot as plt\n",
    "import seaborn as sns\n",
    "import regex as re"
   ]
  },
  {
   "cell_type": "code",
   "execution_count": 5,
   "metadata": {},
   "outputs": [
    {
     "name": "stdout",
     "output_type": "stream",
     "text": [
      "<regex.Match object; span=(20, 26), match='number'>\n",
      "Pattern found: number\n"
     ]
    }
   ],
   "source": [
    "pattern=r'number'\n",
    "text='This is the receipt number:512'\n",
    "matches=re.search(pattern,text)\n",
    "print(matches)\n",
    "\n",
    "if matches:\n",
    "    print(\"Pattern found:\",matches.group())\n",
    "else:\n",
    "    print(\"Pattern not found\")"
   ]
  },
  {
   "cell_type": "markdown",
   "metadata": {},
   "source": [
    "### Capturing Groups"
   ]
  },
  {
   "cell_type": "code",
   "execution_count": null,
   "metadata": {},
   "outputs": [
    {
     "name": "stdout",
     "output_type": "stream",
     "text": [
      "None\n"
     ]
    }
   ],
   "source": [
    "pattern=r'(\\+92)-(\\d{3})-(\\d{7})'\n",
    "number='+92-343-1018777'\n",
    "\n",
    "matches=re.search(pattern,number)\n",
    "print(matches)"
   ]
  },
  {
   "cell_type": "code",
   "execution_count": 17,
   "metadata": {},
   "outputs": [
    {
     "name": "stdout",
     "output_type": "stream",
     "text": [
      "<re.Match object; span=(0, 15), match='+92-343-1018777'>\n",
      "('+92', '343', '1018777')\n",
      "Group 1 +92\n",
      "Group 2 343\n",
      "Group 3 1018777\n"
     ]
    }
   ],
   "source": [
    "import re\n",
    "\n",
    "pattern = r'(\\+92)-(\\d{3})-(\\d{7})'\n",
    "number = '+92-343-1018777'\n",
    "\n",
    "matches = re.search(pattern, number)\n",
    "print(matches)\n",
    "if matches:\n",
    "    print(matches.groups())  # This will print the matched groups\n",
    "    print(\"Group 1\",matches.group(1))\n",
    "    print(\"Group 2\",matches.group(2))\n",
    "    print(\"Group 3\",matches.group(3))\n"
   ]
  },
  {
   "cell_type": "markdown",
   "metadata": {},
   "source": [
    "### Replacing Patterns"
   ]
  },
  {
   "cell_type": "code",
   "execution_count": 19,
   "metadata": {},
   "outputs": [
    {
     "name": "stdout",
     "output_type": "stream",
     "text": [
      "I love eating fruits specially orange\n"
     ]
    }
   ],
   "source": [
    "pattern=r'banana'\n",
    "text='I love eating fruits specially banana'\n",
    "\n",
    "match=re.sub(pattern,'orange',text)\n",
    "print(match)"
   ]
  },
  {
   "cell_type": "code",
   "execution_count": 21,
   "metadata": {},
   "outputs": [
    {
     "name": "stdout",
     "output_type": "stream",
     "text": [
      "<re.Match object; span=(31, 37), match='banana'>\n"
     ]
    }
   ],
   "source": [
    "pattern=r'Banana'\n",
    "text='I love eating fruits specially banana'\n",
    "\n",
    "match=re.search(pattern,text,re.IGNORECASE)\n",
    "print(match)"
   ]
  },
  {
   "cell_type": "code",
   "execution_count": 22,
   "metadata": {},
   "outputs": [],
   "source": [
    "### Email validation\n",
    "def email_validate(email):\n",
    "    pattern=r'^[\\w\\.-]+@[\\w\\.-]+\\.\\w+$'\n",
    "    if re.match(pattern,email):\n",
    "        return True\n",
    "    else:\n",
    "        return False"
   ]
  },
  {
   "cell_type": "code",
   "execution_count": 23,
   "metadata": {},
   "outputs": [
    {
     "name": "stdout",
     "output_type": "stream",
     "text": [
      "True\n"
     ]
    }
   ],
   "source": [
    "print(email_validate(\"husnainmalikawan@gmail.com\"))"
   ]
  },
  {
   "cell_type": "markdown",
   "metadata": {},
   "source": [
    "^: Matches the start of the string.\n",
    "\n",
    "[\\w\\.-]+: Matches one or more word characters (alphanumeric and underscore), dots, and hyphens. This represents the username part of the email.\n",
    "\n",
    "@: Matches the \"@\" symbol.\n",
    "\n",
    "[\\w\\.-]+: Matches one or more word characters, dots, and hyphens. This represents the domain name.\n",
    "\n",
    "\\.: Matches a dot (used to separate the domain name and top-level domain).\n",
    "\n",
    "\\w+: Matches one or more word characters. This represents the top-level domain.\n",
    "\n",
    "$: Matches the end of the string."
   ]
  },
  {
   "cell_type": "code",
   "execution_count": 24,
   "metadata": {},
   "outputs": [
    {
     "name": "stdout",
     "output_type": "stream",
     "text": [
      "https://www.example.com\n",
      "http://www.test.com\n"
     ]
    }
   ],
   "source": [
    "#### Exercise 2: Extract All URLs from a Webpage Source Code\n",
    "\n",
    "import re\n",
    "\n",
    "def extract_urls(source_code):\n",
    "    # Regular expression pattern to match URLs\n",
    "    pattern = r'http[s]?://(?:[a-zA-Z]|[0-9]|[$-_@.&+]|[!*\\\\(\\\\),]|(?:%[0-9a-fA-F][0-9a-fA-F]))+'\n",
    "    \n",
    "    # Find all URLs in the source code using the pattern\n",
    "    urls = re.findall(pattern, source_code)\n",
    "    return urls\n",
    "\n",
    "# Example webpage source code\n",
    "webpage_source = \"\"\"\n",
    "<html>\n",
    "  <a href=\"https://www.example.com\">Visit Example</a>\n",
    "  <a href=\"http://www.test.com\">Test Website</a>\n",
    "</html>\n",
    "\"\"\"\n",
    "\n",
    "# Extract and print URLs\n",
    "urls = extract_urls(webpage_source)\n",
    "for url in urls:\n",
    "    print(url)\n"
   ]
  },
  {
   "cell_type": "code",
   "execution_count": 25,
   "metadata": {},
   "outputs": [
    {
     "name": "stdout",
     "output_type": "stream",
     "text": [
      "Original text: Contact us at john@example.com or jane@example.com for assistance.\n",
      "Masked text: Contact us at [email] or [email] for assistance.\n"
     ]
    }
   ],
   "source": [
    "import re\n",
    "\n",
    "def replace_sensitive_info(text):\n",
    "    # Regular expression pattern to match email addresses\n",
    "    email_pattern = r'\\b[\\w\\.-]+@[\\w\\.-]+\\.\\w+\\b'\n",
    "    \n",
    "    # Replace email addresses with placeholders\n",
    "    masked_text = re.sub(email_pattern, \"[email]\", text)\n",
    "    return masked_text\n",
    "\n",
    "# Test case\n",
    "original_text = \"Contact us at john@example.com or jane@example.com for assistance.\"\n",
    "masked_text = replace_sensitive_info(original_text)\n",
    "print(\"Original text:\", original_text)\n",
    "print(\"Masked text:\", masked_text)\n",
    "\n",
    "#regex match() checks the pattern only at the beginning of the string, \n",
    "\n",
    "#regex search() checks the pattern anywhere in the string."
   ]
  },
  {
   "cell_type": "code",
   "execution_count": 26,
   "metadata": {},
   "outputs": [
    {
     "name": "stdout",
     "output_type": "stream",
     "text": [
      "                                      text_column  \\\n",
      "0  Contact us at john@example.com for assistance.   \n",
      "1           Send an email to support@example.com.   \n",
      "2           Please reach out to info@company.com.   \n",
      "\n",
      "                      text_column_masked  \n",
      "0  Contact us at [email] for assistance.  \n",
      "1              Send an email to [email].  \n",
      "2           Please reach out to [email].  \n"
     ]
    }
   ],
   "source": [
    "import pandas as pd\n",
    "import re\n",
    "\n",
    "# Sample DataFrame\n",
    "data = {\n",
    "    'text_column': [\n",
    "        \"Contact us at john@example.com for assistance.\",\n",
    "        \"Send an email to support@example.com.\",\n",
    "        \"Please reach out to info@company.com.\"\n",
    "    ]\n",
    "}\n",
    "df = pd.DataFrame(data)\n",
    "\n",
    "def replace_sensitive_info(text):\n",
    "    # Regular expression pattern to match email addresses\n",
    "    email_pattern = r'\\b[\\w\\.-]+@[\\w\\.-]+\\.\\w+\\b'\n",
    "    \n",
    "    # Replace email addresses with placeholders\n",
    "    masked_text = re.sub(email_pattern, \"[email]\", text)\n",
    "    return masked_text\n",
    "\n",
    "# Apply the replacement function to the 'text_column' column\n",
    "df['text_column_masked'] = df['text_column'].apply(replace_sensitive_info)\n",
    "\n",
    "# Display the DataFrame\n",
    "print(df)"
   ]
  },
  {
   "cell_type": "code",
   "execution_count": null,
   "metadata": {},
   "outputs": [],
   "source": []
  },
  {
   "cell_type": "code",
   "execution_count": null,
   "metadata": {},
   "outputs": [],
   "source": []
  },
  {
   "cell_type": "code",
   "execution_count": null,
   "metadata": {},
   "outputs": [],
   "source": []
  },
  {
   "cell_type": "code",
   "execution_count": null,
   "metadata": {},
   "outputs": [],
   "source": []
  },
  {
   "cell_type": "code",
   "execution_count": null,
   "metadata": {},
   "outputs": [],
   "source": []
  },
  {
   "cell_type": "code",
   "execution_count": null,
   "metadata": {},
   "outputs": [],
   "source": []
  },
  {
   "cell_type": "code",
   "execution_count": null,
   "metadata": {},
   "outputs": [],
   "source": []
  },
  {
   "cell_type": "code",
   "execution_count": null,
   "metadata": {},
   "outputs": [],
   "source": []
  },
  {
   "cell_type": "code",
   "execution_count": null,
   "metadata": {},
   "outputs": [],
   "source": []
  },
  {
   "cell_type": "code",
   "execution_count": null,
   "metadata": {},
   "outputs": [],
   "source": []
  },
  {
   "cell_type": "code",
   "execution_count": null,
   "metadata": {},
   "outputs": [],
   "source": []
  },
  {
   "cell_type": "code",
   "execution_count": null,
   "metadata": {},
   "outputs": [],
   "source": []
  },
  {
   "cell_type": "code",
   "execution_count": null,
   "metadata": {},
   "outputs": [],
   "source": []
  },
  {
   "cell_type": "code",
   "execution_count": null,
   "metadata": {},
   "outputs": [],
   "source": []
  },
  {
   "cell_type": "code",
   "execution_count": null,
   "metadata": {},
   "outputs": [],
   "source": []
  },
  {
   "cell_type": "code",
   "execution_count": null,
   "metadata": {},
   "outputs": [],
   "source": []
  },
  {
   "cell_type": "code",
   "execution_count": null,
   "metadata": {},
   "outputs": [],
   "source": []
  },
  {
   "cell_type": "code",
   "execution_count": null,
   "metadata": {},
   "outputs": [],
   "source": []
  },
  {
   "cell_type": "code",
   "execution_count": null,
   "metadata": {},
   "outputs": [],
   "source": []
  },
  {
   "cell_type": "code",
   "execution_count": null,
   "metadata": {},
   "outputs": [],
   "source": []
  }
 ],
 "metadata": {
  "kernelspec": {
   "display_name": "Python 3",
   "language": "python",
   "name": "python3"
  },
  "language_info": {
   "codemirror_mode": {
    "name": "ipython",
    "version": 3
   },
   "file_extension": ".py",
   "mimetype": "text/x-python",
   "name": "python",
   "nbconvert_exporter": "python",
   "pygments_lexer": "ipython3",
   "version": "3.12.1"
  }
 },
 "nbformat": 4,
 "nbformat_minor": 2
}
