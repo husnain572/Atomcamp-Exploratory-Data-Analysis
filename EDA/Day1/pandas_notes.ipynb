{
 "cells": [
  {
   "cell_type": "markdown",
   "metadata": {},
   "source": [
    "# Pandas Methods for Data Analysis"
   ]
  },
  {
   "cell_type": "markdown",
   "metadata": {},
   "source": [
    "1. To read csd\n",
    "- pd.read_csv(\"path\")"
   ]
  },
  {
   "cell_type": "markdown",
   "metadata": {},
   "source": [
    "2. To view whole dataset i-e all rows and columns\n",
    "- with pd.option_context('display.max_rows',None,'display.max_columns',None):\\\n",
    "        display(df)"
   ]
  },
  {
   "cell_type": "markdown",
   "metadata": {},
   "source": [
    "3. Commonly used methods:\n",
    "   - df.head()\n",
    "   - df.tail()\n",
    "   - df.info()\n",
    "   - df.describe()\n",
    "   - df.column\n",
    "   - unique()\n",
    "   - value_counts()\n",
    "  "
   ]
  },
  {
   "cell_type": "markdown",
   "metadata": {},
   "source": [
    "4. adding a column at a specific location\n",
    "\n",
    "- df.insert(loction, column = \"column_name\", value = df[\"\"] or values of column)\n"
   ]
  },
  {
   "cell_type": "markdown",
   "metadata": {},
   "source": [
    "5. to drop columns, you need to set axis = 1. by default it is set to 0, meaning rows\n",
    "- df_new=df_new.drop('column name',axis=1)\\\n",
    " or we can use\n",
    "- df_new.drop('column name',axis=1,inplace=True)\n"
   ]
  },
  {
   "cell_type": "markdown",
   "metadata": {},
   "source": [
    "6. Changing or inserting a row\n",
    " \n",
    " new_row=pd.Series(df_new.shape[1]*[np.nan])\\\n",
    " df_new.loc[4]=new_row\\\n",
    " df_new"
   ]
  },
  {
   "cell_type": "markdown",
   "metadata": {},
   "source": [
    "7. Drop a row\n",
    "- df_new.drop(row number here,inplace=True)\n"
   ]
  },
  {
   "cell_type": "markdown",
   "metadata": {},
   "source": []
  },
  {
   "cell_type": "markdown",
   "metadata": {},
   "source": []
  },
  {
   "cell_type": "markdown",
   "metadata": {},
   "source": [
    "## Difference Between `loc` and `iloc`\n",
    "\n",
    "### `iloc`\n",
    "- Stands for **integer-location based indexing**.\n",
    "- It is used for selecting rows and columns **by their numerical positions** (integer indices).\n",
    "- **Example**: \n",
    "  ```python\n",
    "  df.iloc[1:4, 0:2]\n",
    "  \n",
    "### `loc`\n",
    "\n",
    "- Stands for **label-location based indexing**.\n",
    "- It is used for selecting rows and columns **by their labels** (e.g., column names or row labels).\n",
    "- **Example**: \n",
    "  ```python\n",
    "  df.loc[1:3, ['A', 'B']]\n"
   ]
  },
  {
   "cell_type": "markdown",
   "metadata": {},
   "source": []
  },
  {
   "cell_type": "markdown",
   "metadata": {},
   "source": []
  },
  {
   "cell_type": "markdown",
   "metadata": {},
   "source": []
  },
  {
   "cell_type": "markdown",
   "metadata": {},
   "source": []
  },
  {
   "cell_type": "markdown",
   "metadata": {},
   "source": []
  }
 ],
 "metadata": {
  "language_info": {
   "name": "python"
  }
 },
 "nbformat": 4,
 "nbformat_minor": 2
}
